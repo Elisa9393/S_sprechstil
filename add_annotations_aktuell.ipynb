{
 "cells": [
  {
   "cell_type": "markdown",
   "id": "a234c8e4",
   "metadata": {},
   "source": [
    "# Add annnotations"
   ]
  },
  {
   "cell_type": "markdown",
   "id": "d1172d4b",
   "metadata": {},
   "source": [
    "### Elisa Seyfried, Individuelle Sprechstile, SS21"
   ]
  },
  {
   "cell_type": "markdown",
   "id": "d3aabb48",
   "metadata": {},
   "source": [
    "This script adds annotations to the dataframe like speaker id and age to be able to compare them."
   ]
  },
  {
   "cell_type": "markdown",
   "id": "ac7a44d4",
   "metadata": {},
   "source": [
    "In the following the the neccessary modules are imported."
   ]
  },
  {
   "cell_type": "code",
   "execution_count": 5,
   "id": "26f16b03",
   "metadata": {},
   "outputs": [],
   "source": [
    "import os\n",
    "import pandas as pd\n",
    "import IPython"
   ]
  },
  {
   "cell_type": "markdown",
   "id": "d2fff088",
   "metadata": {},
   "source": [
    "In the following cell the segmented files are loaded. The pickle contains the segments."
   ]
  },
  {
   "cell_type": "code",
   "execution_count": 6,
   "id": "371a9cd4",
   "metadata": {},
   "outputs": [
    {
     "data": {
      "text/html": [
       "<div>\n",
       "<style scoped>\n",
       "    .dataframe tbody tr th:only-of-type {\n",
       "        vertical-align: middle;\n",
       "    }\n",
       "\n",
       "    .dataframe tbody tr th {\n",
       "        vertical-align: top;\n",
       "    }\n",
       "\n",
       "    .dataframe thead th {\n",
       "        text-align: right;\n",
       "    }\n",
       "</style>\n",
       "<table border=\"1\" class=\"dataframe\">\n",
       "  <thead>\n",
       "    <tr style=\"text-align: right;\">\n",
       "      <th></th>\n",
       "      <th></th>\n",
       "      <th></th>\n",
       "      <th>channel</th>\n",
       "      <th>segmented_file</th>\n",
       "    </tr>\n",
       "    <tr>\n",
       "      <th>file</th>\n",
       "      <th>start</th>\n",
       "      <th>end</th>\n",
       "      <th></th>\n",
       "      <th></th>\n",
       "    </tr>\n",
       "  </thead>\n",
       "  <tbody>\n",
       "    <tr>\n",
       "      <th>./speeches/Alexa_Seyfried.wav</th>\n",
       "      <th>0 days 00:00:01.120000</th>\n",
       "      <th>0 days 00:00:02.580000</th>\n",
       "      <td>0</td>\n",
       "      <td>/home/felix/data/TU/SS2021/S_Sprechstil_Andere...</td>\n",
       "    </tr>\n",
       "  </tbody>\n",
       "</table>\n",
       "</div>"
      ],
      "text/plain": [
       "                                                                             channel  \\\n",
       "file                          start                  end                               \n",
       "./speeches/Alexa_Seyfried.wav 0 days 00:00:01.120000 0 days 00:00:02.580000        0   \n",
       "\n",
       "                                                                                                                segmented_file  \n",
       "file                          start                  end                                                                        \n",
       "./speeches/Alexa_Seyfried.wav 0 days 00:00:01.120000 0 days 00:00:02.580000  /home/felix/data/TU/SS2021/S_Sprechstil_Andere...  "
      ]
     },
     "execution_count": 6,
     "metadata": {},
     "output_type": "execute_result"
    }
   ],
   "source": [
    "df_alexa = pd.read_pickle('processed/alexa/Seyfried_mdf.pkl')\n",
    "df_alexa.head(1)  # show first rows"
   ]
  },
  {
   "cell_type": "markdown",
   "id": "246b2819",
   "metadata": {},
   "source": [
    "In the following cell the segmented file get rearranged to access the segmented file. The path is added to the file"
   ]
  },
  {
   "cell_type": "code",
   "execution_count": 7,
   "id": "israeli-trauma",
   "metadata": {},
   "outputs": [
    {
     "data": {
      "text/html": [
       "<div>\n",
       "<style scoped>\n",
       "    .dataframe tbody tr th:only-of-type {\n",
       "        vertical-align: middle;\n",
       "    }\n",
       "\n",
       "    .dataframe tbody tr th {\n",
       "        vertical-align: top;\n",
       "    }\n",
       "\n",
       "    .dataframe thead th {\n",
       "        text-align: right;\n",
       "    }\n",
       "</style>\n",
       "<table border=\"1\" class=\"dataframe\">\n",
       "  <thead>\n",
       "    <tr style=\"text-align: right;\">\n",
       "      <th></th>\n",
       "    </tr>\n",
       "    <tr>\n",
       "      <th>segmented_file</th>\n",
       "    </tr>\n",
       "  </thead>\n",
       "  <tbody>\n",
       "    <tr>\n",
       "      <th>alexa/Alexa_Seyfried_seg_00000000.wav</th>\n",
       "    </tr>\n",
       "  </tbody>\n",
       "</table>\n",
       "</div>"
      ],
      "text/plain": [
       "Empty DataFrame\n",
       "Columns: []\n",
       "Index: [alexa/Alexa_Seyfried_seg_00000000.wav]"
      ]
     },
     "execution_count": 7,
     "metadata": {},
     "output_type": "execute_result"
    }
   ],
   "source": [
    "def re_arrange_df(df, audio_dir):\n",
    "    df['segmented_file'] = df['segmented_file'].apply(lambda x: audio_dir+os.path.basename(x)) #puts directory before filename\n",
    "    df = df.set_index(df.segmented_file)\n",
    "    df = df.drop(columns=['segmented_file', 'channel'])\n",
    "    return df\n",
    "df_alexa = re_arrange_df(df_alexa, 'alexa/')\n",
    "df_alexa.head(1)  # show the first rows"
   ]
  },
  {
   "cell_type": "markdown",
   "id": "de7bb11b",
   "metadata": {},
   "source": []
  },
  {
   "cell_type": "markdown",
   "id": "58fcc3fe",
   "metadata": {},
   "source": [
    "Only take the filename and hide the path"
   ]
  },
  {
   "cell_type": "markdown",
   "id": "15b633d2",
   "metadata": {},
   "source": [
    "Create id for speaker Alexa."
   ]
  },
  {
   "cell_type": "code",
   "execution_count": 9,
   "id": "a1a22ece",
   "metadata": {},
   "outputs": [
    {
     "name": "stdout",
     "output_type": "stream",
     "text": [
      "alexa\n",
      "female\n",
      "synth\n",
      "30\n",
      "de-DE\n",
      "explanatory\n",
      "https://play.google.com/store/apps/details?id=com.amazon.dee.app&hl=de&gl=US\n"
     ]
    }
   ],
   "source": [
    "ad ={'id':'alexa', \n",
    "     'gender': 'female', \n",
    "     'speakertype': 'synth',\n",
    "     'age': 30,  \n",
    "     'lang':'de-DE', \n",
    "     'speechtype': 'explanatory', \n",
    "     'source':'https://play.google.com/store/apps/details?id=com.amazon.dee.app&hl=de&gl=US'}\n",
    "for k in ad: #ad = annotation dictionary\n",
    "    print(ad[k])\n",
    "    df_alexa[k] = ad[k]\n",
    "df_alexa.to_pickle('speeches/alexa.pkl')"
   ]
  },
  {
   "cell_type": "markdown",
   "id": "5ba3ffdc",
   "metadata": {},
   "source": [
    "Show all the segments of the Alexa.pkl"
   ]
  },
  {
   "cell_type": "code",
   "execution_count": 15,
   "id": "eeed6991",
   "metadata": {},
   "outputs": [
    {
     "data": {
      "text/html": [
       "<div>\n",
       "<style scoped>\n",
       "    .dataframe tbody tr th:only-of-type {\n",
       "        vertical-align: middle;\n",
       "    }\n",
       "\n",
       "    .dataframe tbody tr th {\n",
       "        vertical-align: top;\n",
       "    }\n",
       "\n",
       "    .dataframe thead th {\n",
       "        text-align: right;\n",
       "    }\n",
       "</style>\n",
       "<table border=\"1\" class=\"dataframe\">\n",
       "  <thead>\n",
       "    <tr style=\"text-align: right;\">\n",
       "      <th></th>\n",
       "      <th>id</th>\n",
       "      <th>gender</th>\n",
       "      <th>speakertype</th>\n",
       "      <th>age</th>\n",
       "      <th>lang</th>\n",
       "      <th>speechtype</th>\n",
       "      <th>source</th>\n",
       "    </tr>\n",
       "    <tr>\n",
       "      <th>segmented_file</th>\n",
       "      <th></th>\n",
       "      <th></th>\n",
       "      <th></th>\n",
       "      <th></th>\n",
       "      <th></th>\n",
       "      <th></th>\n",
       "      <th></th>\n",
       "    </tr>\n",
       "  </thead>\n",
       "  <tbody>\n",
       "    <tr>\n",
       "      <th>alexa/Alexa_Seyfried_seg_00000000.wav</th>\n",
       "      <td>alexa</td>\n",
       "      <td>female</td>\n",
       "      <td>synth</td>\n",
       "      <td>30</td>\n",
       "      <td>de-DE</td>\n",
       "      <td>explanatory</td>\n",
       "      <td>https://play.google.com/store/apps/details?id=...</td>\n",
       "    </tr>\n",
       "    <tr>\n",
       "      <th>alexa/Alexa_Seyfried_seg_00000001.wav</th>\n",
       "      <td>alexa</td>\n",
       "      <td>female</td>\n",
       "      <td>synth</td>\n",
       "      <td>30</td>\n",
       "      <td>de-DE</td>\n",
       "      <td>explanatory</td>\n",
       "      <td>https://play.google.com/store/apps/details?id=...</td>\n",
       "    </tr>\n",
       "    <tr>\n",
       "      <th>alexa/Alexa_Seyfried_seg_00000002.wav</th>\n",
       "      <td>alexa</td>\n",
       "      <td>female</td>\n",
       "      <td>synth</td>\n",
       "      <td>30</td>\n",
       "      <td>de-DE</td>\n",
       "      <td>explanatory</td>\n",
       "      <td>https://play.google.com/store/apps/details?id=...</td>\n",
       "    </tr>\n",
       "    <tr>\n",
       "      <th>alexa/Alexa_Seyfried_seg_00000003.wav</th>\n",
       "      <td>alexa</td>\n",
       "      <td>female</td>\n",
       "      <td>synth</td>\n",
       "      <td>30</td>\n",
       "      <td>de-DE</td>\n",
       "      <td>explanatory</td>\n",
       "      <td>https://play.google.com/store/apps/details?id=...</td>\n",
       "    </tr>\n",
       "    <tr>\n",
       "      <th>alexa/Alexa_Seyfried_seg_00000004.wav</th>\n",
       "      <td>alexa</td>\n",
       "      <td>female</td>\n",
       "      <td>synth</td>\n",
       "      <td>30</td>\n",
       "      <td>de-DE</td>\n",
       "      <td>explanatory</td>\n",
       "      <td>https://play.google.com/store/apps/details?id=...</td>\n",
       "    </tr>\n",
       "    <tr>\n",
       "      <th>...</th>\n",
       "      <td>...</td>\n",
       "      <td>...</td>\n",
       "      <td>...</td>\n",
       "      <td>...</td>\n",
       "      <td>...</td>\n",
       "      <td>...</td>\n",
       "      <td>...</td>\n",
       "    </tr>\n",
       "    <tr>\n",
       "      <th>alexa/Alexa_Seyfried_seg_00000106.wav</th>\n",
       "      <td>alexa</td>\n",
       "      <td>female</td>\n",
       "      <td>synth</td>\n",
       "      <td>30</td>\n",
       "      <td>de-DE</td>\n",
       "      <td>explanatory</td>\n",
       "      <td>https://play.google.com/store/apps/details?id=...</td>\n",
       "    </tr>\n",
       "    <tr>\n",
       "      <th>alexa/Alexa_Seyfried_seg_00000107.wav</th>\n",
       "      <td>alexa</td>\n",
       "      <td>female</td>\n",
       "      <td>synth</td>\n",
       "      <td>30</td>\n",
       "      <td>de-DE</td>\n",
       "      <td>explanatory</td>\n",
       "      <td>https://play.google.com/store/apps/details?id=...</td>\n",
       "    </tr>\n",
       "    <tr>\n",
       "      <th>alexa/Alexa_Seyfried_seg_00000108.wav</th>\n",
       "      <td>alexa</td>\n",
       "      <td>female</td>\n",
       "      <td>synth</td>\n",
       "      <td>30</td>\n",
       "      <td>de-DE</td>\n",
       "      <td>explanatory</td>\n",
       "      <td>https://play.google.com/store/apps/details?id=...</td>\n",
       "    </tr>\n",
       "    <tr>\n",
       "      <th>alexa/Alexa_Seyfried_seg_00000109.wav</th>\n",
       "      <td>alexa</td>\n",
       "      <td>female</td>\n",
       "      <td>synth</td>\n",
       "      <td>30</td>\n",
       "      <td>de-DE</td>\n",
       "      <td>explanatory</td>\n",
       "      <td>https://play.google.com/store/apps/details?id=...</td>\n",
       "    </tr>\n",
       "    <tr>\n",
       "      <th>alexa/Alexa_Seyfried_seg_00000110.wav</th>\n",
       "      <td>alexa</td>\n",
       "      <td>female</td>\n",
       "      <td>synth</td>\n",
       "      <td>30</td>\n",
       "      <td>de-DE</td>\n",
       "      <td>explanatory</td>\n",
       "      <td>https://play.google.com/store/apps/details?id=...</td>\n",
       "    </tr>\n",
       "  </tbody>\n",
       "</table>\n",
       "<p>111 rows × 7 columns</p>\n",
       "</div>"
      ],
      "text/plain": [
       "                                          id  gender speakertype  age   lang  \\\n",
       "segmented_file                                                                 \n",
       "alexa/Alexa_Seyfried_seg_00000000.wav  alexa  female       synth   30  de-DE   \n",
       "alexa/Alexa_Seyfried_seg_00000001.wav  alexa  female       synth   30  de-DE   \n",
       "alexa/Alexa_Seyfried_seg_00000002.wav  alexa  female       synth   30  de-DE   \n",
       "alexa/Alexa_Seyfried_seg_00000003.wav  alexa  female       synth   30  de-DE   \n",
       "alexa/Alexa_Seyfried_seg_00000004.wav  alexa  female       synth   30  de-DE   \n",
       "...                                      ...     ...         ...  ...    ...   \n",
       "alexa/Alexa_Seyfried_seg_00000106.wav  alexa  female       synth   30  de-DE   \n",
       "alexa/Alexa_Seyfried_seg_00000107.wav  alexa  female       synth   30  de-DE   \n",
       "alexa/Alexa_Seyfried_seg_00000108.wav  alexa  female       synth   30  de-DE   \n",
       "alexa/Alexa_Seyfried_seg_00000109.wav  alexa  female       synth   30  de-DE   \n",
       "alexa/Alexa_Seyfried_seg_00000110.wav  alexa  female       synth   30  de-DE   \n",
       "\n",
       "                                        speechtype  \\\n",
       "segmented_file                                       \n",
       "alexa/Alexa_Seyfried_seg_00000000.wav  explanatory   \n",
       "alexa/Alexa_Seyfried_seg_00000001.wav  explanatory   \n",
       "alexa/Alexa_Seyfried_seg_00000002.wav  explanatory   \n",
       "alexa/Alexa_Seyfried_seg_00000003.wav  explanatory   \n",
       "alexa/Alexa_Seyfried_seg_00000004.wav  explanatory   \n",
       "...                                            ...   \n",
       "alexa/Alexa_Seyfried_seg_00000106.wav  explanatory   \n",
       "alexa/Alexa_Seyfried_seg_00000107.wav  explanatory   \n",
       "alexa/Alexa_Seyfried_seg_00000108.wav  explanatory   \n",
       "alexa/Alexa_Seyfried_seg_00000109.wav  explanatory   \n",
       "alexa/Alexa_Seyfried_seg_00000110.wav  explanatory   \n",
       "\n",
       "                                                                                  source  \n",
       "segmented_file                                                                            \n",
       "alexa/Alexa_Seyfried_seg_00000000.wav  https://play.google.com/store/apps/details?id=...  \n",
       "alexa/Alexa_Seyfried_seg_00000001.wav  https://play.google.com/store/apps/details?id=...  \n",
       "alexa/Alexa_Seyfried_seg_00000002.wav  https://play.google.com/store/apps/details?id=...  \n",
       "alexa/Alexa_Seyfried_seg_00000003.wav  https://play.google.com/store/apps/details?id=...  \n",
       "alexa/Alexa_Seyfried_seg_00000004.wav  https://play.google.com/store/apps/details?id=...  \n",
       "...                                                                                  ...  \n",
       "alexa/Alexa_Seyfried_seg_00000106.wav  https://play.google.com/store/apps/details?id=...  \n",
       "alexa/Alexa_Seyfried_seg_00000107.wav  https://play.google.com/store/apps/details?id=...  \n",
       "alexa/Alexa_Seyfried_seg_00000108.wav  https://play.google.com/store/apps/details?id=...  \n",
       "alexa/Alexa_Seyfried_seg_00000109.wav  https://play.google.com/store/apps/details?id=...  \n",
       "alexa/Alexa_Seyfried_seg_00000110.wav  https://play.google.com/store/apps/details?id=...  \n",
       "\n",
       "[111 rows x 7 columns]"
      ]
     },
     "execution_count": 15,
     "metadata": {},
     "output_type": "execute_result"
    }
   ],
   "source": [
    "pd.read_pickle('speeches/alexa.pkl')"
   ]
  }
 ],
 "metadata": {
  "kernelspec": {
   "display_name": "Python 3",
   "language": "python",
   "name": "python3"
  },
  "language_info": {
   "codemirror_mode": {
    "name": "ipython",
    "version": 3
   },
   "file_extension": ".py",
   "mimetype": "text/x-python",
   "name": "python",
   "nbconvert_exporter": "python",
   "pygments_lexer": "ipython3",
   "version": "3.9.6"
  }
 },
 "nbformat": 4,
 "nbformat_minor": 5
}
