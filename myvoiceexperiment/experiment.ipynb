{
 "cells": [
  {
   "cell_type": "code",
   "execution_count": 2,
   "id": "bec3a573",
   "metadata": {},
   "outputs": [],
   "source": [
    "mysp=__import__(\"my-voice-analysis\")"
   ]
  },
  {
   "cell_type": "code",
   "execution_count": 3,
   "id": "dd27d0d5",
   "metadata": {},
   "outputs": [
    {
     "data": {
      "text/plain": [
       "'C:\\\\Users\\\\elisa\\\\S_sprechstil\\\\myvoiceexperiment'"
      ]
     },
     "execution_count": 3,
     "metadata": {},
     "output_type": "execute_result"
    }
   ],
   "source": [
    "pwd"
   ]
  },
  {
   "cell_type": "code",
   "execution_count": 4,
   "id": "b9cbaff8",
   "metadata": {},
   "outputs": [
    {
     "name": "stdout",
     "output_type": "stream",
     "text": [
      "[]\n",
      "a female, mood of speech: Showing no emotion, normal, p-value/sample size= :0.00 5\n"
     ]
    }
   ],
   "source": [
    "p=\"Alexa_Seyfried\" # Audio File title\n",
    "c=r\"C:\\\\Users\\\\elisa\\\\S_sprechstil\\\\myvoiceexperiment\" # Path to the Audio_File directory (Python 3.7)\n",
    "mysp.myspgend(p,c)"
   ]
  },
  {
   "cell_type": "code",
   "execution_count": null,
   "id": "441d61f2",
   "metadata": {},
   "outputs": [],
   "source": [
    "!pip list\n"
   ]
  },
  {
   "cell_type": "code",
   "execution_count": 1,
   "id": "d437fb35",
   "metadata": {},
   "outputs": [
    {
     "name": "stdout",
     "output_type": "stream",
     "text": [
      "Requirement already satisfied: my-voice-analysis in c:\\users\\elisa\\s_sprechstil\\sprech_env\\lib\\site-packages (0.7)"
     ]
    },
    {
     "name": "stderr",
     "output_type": "stream",
     "text": [
      "WARNING: You are using pip version 21.1.1; however, version 21.1.2 is available.\n",
      "You should consider upgrading via the 'c:\\users\\elisa\\s_sprechstil\\sprech_env\\scripts\\python.exe -m pip install --upgrade pip' command.\n"
     ]
    },
    {
     "name": "stdout",
     "output_type": "stream",
     "text": [
      "\n",
      "Requirement already satisfied: praat-parselmouth>=0.3.2 in c:\\users\\elisa\\s_sprechstil\\sprech_env\\lib\\site-packages (from my-voice-analysis) (0.4.0)\n",
      "Requirement already satisfied: numpy>=1.15.2 in c:\\users\\elisa\\s_sprechstil\\sprech_env\\lib\\site-packages (from my-voice-analysis) (1.20.3)\n",
      "Requirement already satisfied: pandas>=0.23.4 in c:\\users\\elisa\\s_sprechstil\\sprech_env\\lib\\site-packages (from my-voice-analysis) (1.2.4)\n",
      "Requirement already satisfied: scipy>=1.1.0 in c:\\users\\elisa\\s_sprechstil\\sprech_env\\lib\\site-packages (from my-voice-analysis) (1.6.3)\n",
      "Requirement already satisfied: python-dateutil>=2.7.3 in c:\\users\\elisa\\s_sprechstil\\sprech_env\\lib\\site-packages (from pandas>=0.23.4->my-voice-analysis) (2.8.1)\n",
      "Requirement already satisfied: pytz>=2017.3 in c:\\users\\elisa\\s_sprechstil\\sprech_env\\lib\\site-packages (from pandas>=0.23.4->my-voice-analysis) (2021.1)\n",
      "Requirement already satisfied: six>=1.5 in c:\\users\\elisa\\s_sprechstil\\sprech_env\\lib\\site-packages (from python-dateutil>=2.7.3->pandas>=0.23.4->my-voice-analysis) (1.16.0)\n"
     ]
    }
   ],
   "source": [
    "!pip install my-voice-analysis"
   ]
  },
  {
   "cell_type": "code",
   "execution_count": null,
   "id": "d7a183fa",
   "metadata": {},
   "outputs": [],
   "source": []
  }
 ],
 "metadata": {
  "kernelspec": {
   "display_name": "Python 3",
   "language": "python",
   "name": "python3"
  },
  "language_info": {
   "codemirror_mode": {
    "name": "ipython",
    "version": 3
   },
   "file_extension": ".py",
   "mimetype": "text/x-python",
   "name": "python",
   "nbconvert_exporter": "python",
   "pygments_lexer": "ipython3",
   "version": "3.9.5"
  }
 },
 "nbformat": 4,
 "nbformat_minor": 5
}
